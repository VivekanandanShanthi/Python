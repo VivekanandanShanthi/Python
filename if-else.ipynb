{
 "cells": [
  {
   "cell_type": "code",
   "execution_count": null,
   "id": "b9be0bf8-ff16-4287-ae6c-4f7726713651",
   "metadata": {},
   "outputs": [],
   "source": [
    "#if\n",
    "if():\n",
    "    print()"
   ]
  },
  {
   "cell_type": "code",
   "execution_count": null,
   "id": "a0056ab8-22be-4332-87aa-5ad8e4d98087",
   "metadata": {},
   "outputs": [],
   "source": [
    "age=int(input(\"Enter the age:\"))"
   ]
  },
  {
   "cell_type": "code",
   "execution_count": null,
   "id": "7d3c60bd-288a-46b2-b8ab-d800e63a090b",
   "metadata": {},
   "outputs": [],
   "source": [
    "if(age==18):\n",
    "    print(\"Adult\")"
   ]
  },
  {
   "cell_type": "code",
   "execution_count": null,
   "id": "654dc060-b79a-4be4-860f-f612e25f5820",
   "metadata": {},
   "outputs": [],
   "source": [
    "#if-else"
   ]
  },
  {
   "cell_type": "code",
   "execution_count": null,
   "id": "e6c5f153-3a03-4618-b715-4d3b9f08f585",
   "metadata": {},
   "outputs": [],
   "source": [
    "age=int(input(\"Enter the age\"))"
   ]
  },
  {
   "cell_type": "code",
   "execution_count": 1,
   "id": "f06abce2-2a92-4637-82b7-546cd041f9dc",
   "metadata": {},
   "outputs": [
    {
     "name": "stdin",
     "output_type": "stream",
     "text": [
      "Enter the age 19\n"
     ]
    },
    {
     "name": "stdout",
     "output_type": "stream",
     "text": [
      "Adult\n"
     ]
    }
   ],
   "source": [
    "age=int(input(\"Enter the age\"))\n",
    "if(age<18):\n",
    "    print(\"Children\")\n",
    "else:\n",
    "    print(\"Adult\")"
   ]
  },
  {
   "cell_type": "code",
   "execution_count": null,
   "id": "50788f01-10ae-4df5-b0b9-3b967bb3ddc7",
   "metadata": {},
   "outputs": [],
   "source": [
    "#if-elif\n",
    "if():\n",
    "    print()\n",
    "elif():\n",
    "    print()\n",
    "elif():\n",
    "    print()\n",
    "else:\n",
    "    print()"
   ]
  },
  {
   "cell_type": "code",
   "execution_count": null,
   "id": "018e38c7-3d3c-4067-b1a4-9771d1f7a614",
   "metadata": {},
   "outputs": [],
   "source": [
    "age<18=children\n",
    "age<35=adult\n",
    "age<59=citizen\n",
    "age>59=senior citizen"
   ]
  },
  {
   "cell_type": "code",
   "execution_count": null,
   "id": "490237fc-c579-4a46-9104-26f9d9f3d00f",
   "metadata": {},
   "outputs": [],
   "source": []
  }
 ],
 "metadata": {
  "kernelspec": {
   "display_name": "Python 3 (ipykernel)",
   "language": "python",
   "name": "python3"
  },
  "language_info": {
   "codemirror_mode": {
    "name": "ipython",
    "version": 3
   },
   "file_extension": ".py",
   "mimetype": "text/x-python",
   "name": "python",
   "nbconvert_exporter": "python",
   "pygments_lexer": "ipython3",
   "version": "3.11.7"
  }
 },
 "nbformat": 4,
 "nbformat_minor": 5
}
