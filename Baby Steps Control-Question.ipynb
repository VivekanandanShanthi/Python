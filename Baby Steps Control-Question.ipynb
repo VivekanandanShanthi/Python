{
 "cells": [
  {
   "cell_type": "code",
   "execution_count": 1,
   "id": "11040648-8f05-4b77-b02b-6e8a46e8efd2",
   "metadata": {},
   "outputs": [
    {
     "name": "stdout",
     "output_type": "stream",
     "text": [
      "Welcome to Assigment-1\n"
     ]
    }
   ],
   "source": [
    "print(\"Welcome to Assigment-1\")"
   ]
  },
  {
   "cell_type": "code",
   "execution_count": 2,
   "id": "562340b9-11cf-45e2-a3ad-a1be2e861f79",
   "metadata": {},
   "outputs": [
    {
     "name": "stdin",
     "output_type": "stream",
     "text": [
      "Enter the num1 20\n",
      "Enter the num2 30\n"
     ]
    },
    {
     "name": "stdout",
     "output_type": "stream",
     "text": [
      "50\n"
     ]
    }
   ],
   "source": [
    "num1=int(input(\"Enter the num1\"))\n",
    "num2=int(input(\"Enter the num2\"))\n",
    "add=num1+num2\n",
    "print(add)"
   ]
  },
  {
   "cell_type": "code",
   "execution_count": 3,
   "id": "677d9277-62bb-4ebd-8791-07f47cd6c4bb",
   "metadata": {},
   "outputs": [
    {
     "name": "stdin",
     "output_type": "stream",
     "text": [
      "Enter the BMI: 35\n"
     ]
    },
    {
     "name": "stdout",
     "output_type": "stream",
     "text": [
      "obesity-Class2(Severe)\n"
     ]
    }
   ],
   "source": [
    "BMI=int(input(\"Enter the BMI:\"))\n",
    "if(BMI<=18.5):\n",
    "    print(\"Under Weight\")\n",
    "elif(BMI<=24.9):\n",
    "    print(\"Normal Weight\")\n",
    "elif(BMI<=29.9):\n",
    "    print(\"Over Weight\")\n",
    "elif(BMI<=34.9):\n",
    "    print(\"obesity-Class1(Moderate)\")\n",
    "elif(BMI<=39.9):\n",
    "    print(\"obesity-Class2(Severe)\")\n",
    "elif(BMI>40):\n",
    "    print(\"obesity-Class3(Very Severe)\")\n",
    "else:\n",
    "    print(\"Invalid Input\")"
   ]
  },
  {
   "cell_type": "code",
   "execution_count": null,
   "id": "d9e5001a-17b2-41af-86dd-38e79e03b9dc",
   "metadata": {},
   "outputs": [],
   "source": []
  }
 ],
 "metadata": {
  "kernelspec": {
   "display_name": "Python 3 (ipykernel)",
   "language": "python",
   "name": "python3"
  },
  "language_info": {
   "codemirror_mode": {
    "name": "ipython",
    "version": 3
   },
   "file_extension": ".py",
   "mimetype": "text/x-python",
   "name": "python",
   "nbconvert_exporter": "python",
   "pygments_lexer": "ipython3",
   "version": "3.11.7"
  }
 },
 "nbformat": 4,
 "nbformat_minor": 5
}
