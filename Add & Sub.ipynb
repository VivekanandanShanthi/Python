{
 "cells": [
  {
   "cell_type": "code",
   "execution_count": 1,
   "id": "ecbe81c7-cd5d-4ad7-aa12-7d12009bbbda",
   "metadata": {},
   "outputs": [
    {
     "name": "stdout",
     "output_type": "stream",
     "text": [
      "add\n",
      "40\n"
     ]
    }
   ],
   "source": [
    "num1=10\n",
    "num2=30\n",
    "add=num1+num2\n",
    "print(\"add\")\n",
    "print(add)"
   ]
  },
  {
   "cell_type": "code",
   "execution_count": 3,
   "id": "16d17619-a639-4bb2-94ee-7831fbfa06e6",
   "metadata": {},
   "outputs": [
    {
     "name": "stdout",
     "output_type": "stream",
     "text": [
      "Add\n",
      "Sub\n",
      "90\n",
      "10\n"
     ]
    }
   ],
   "source": [
    "Num1=50\n",
    "Num2=40\n",
    "Add=Num1+Num2\n",
    "Sub=Num1-Num2\n",
    "print(\"Add\")\n",
    "print(\"Sub\")\n",
    "print(Add)\n",
    "print(Sub)"
   ]
  },
  {
   "cell_type": "code",
   "execution_count": null,
   "id": "4a0b28f2-9503-4b16-a82c-046eea3133c6",
   "metadata": {},
   "outputs": [],
   "source": []
  }
 ],
 "metadata": {
  "kernelspec": {
   "display_name": "Python 3 (ipykernel)",
   "language": "python",
   "name": "python3"
  },
  "language_info": {
   "codemirror_mode": {
    "name": "ipython",
    "version": 3
   },
   "file_extension": ".py",
   "mimetype": "text/x-python",
   "name": "python",
   "nbconvert_exporter": "python",
   "pygments_lexer": "ipython3",
   "version": "3.11.7"
  }
 },
 "nbformat": 4,
 "nbformat_minor": 5
}
