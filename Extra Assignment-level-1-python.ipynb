{
 "cells": [
  {
   "cell_type": "code",
   "execution_count": 1,
   "id": "7ec59cae-4893-4eca-96e5-09fba1af132f",
   "metadata": {},
   "outputs": [
    {
     "name": "stdout",
     "output_type": "stream",
     "text": [
      "Hope AI\n"
     ]
    }
   ],
   "source": [
    "print(\"Hope AI\")"
   ]
  },
  {
   "cell_type": "code",
   "execution_count": 2,
   "id": "b1b629f8-80f1-4d9c-a2a2-abe17114b1ec",
   "metadata": {},
   "outputs": [
    {
     "name": "stdin",
     "output_type": "stream",
     "text": [
      "Enter the Institute name: Hope AI\n"
     ]
    },
    {
     "data": {
      "text/plain": [
       "'Hope AI'"
      ]
     },
     "execution_count": 2,
     "metadata": {},
     "output_type": "execute_result"
    }
   ],
   "source": [
    "input(\"Enter the Institute name:\")"
   ]
  },
  {
   "cell_type": "code",
   "execution_count": 3,
   "id": "fd02f3a5-a798-499a-b9ba-9deee69521d2",
   "metadata": {},
   "outputs": [
    {
     "name": "stdin",
     "output_type": "stream",
     "text": [
      "Enter your Name: Raj\n",
      "Enter your Age: 15\n",
      "Enter your School Name: Guru School\n",
      "Enter your Degree: B.E CSE\n"
     ]
    }
   ],
   "source": [
    "Name=input(\"Enter your Name:\")\n",
    "Age=int(input(\"Enter your Age:\"))\n",
    "SchoolName=input(\"Enter your School Name:\")\n",
    "Degree=input(\"Enter your Degree:\")"
   ]
  },
  {
   "cell_type": "code",
   "execution_count": 4,
   "id": "94b972c3-caa9-403e-a3e3-df348001c546",
   "metadata": {},
   "outputs": [
    {
     "name": "stdout",
     "output_type": "stream",
     "text": [
      "Add\n",
      "77\n"
     ]
    }
   ],
   "source": [
    "a=43\n",
    "b=34\n",
    "Add=a+b\n",
    "print(\"Add\")\n",
    "print(Add)"
   ]
  },
  {
   "cell_type": "code",
   "execution_count": 5,
   "id": "0912f960-6b01-4d72-bb56-2a055026bcd2",
   "metadata": {},
   "outputs": [
    {
     "name": "stdout",
     "output_type": "stream",
     "text": [
      "sub\n",
      "9\n"
     ]
    }
   ],
   "source": [
    "a=43\n",
    "b=34\n",
    "sub=a-b\n",
    "print(\"sub\")\n",
    "print(sub)"
   ]
  },
  {
   "cell_type": "code",
   "execution_count": 6,
   "id": "a33f76b5-e9cc-46cd-a179-bfd8785cbd1d",
   "metadata": {},
   "outputs": [
    {
     "name": "stdout",
     "output_type": "stream",
     "text": [
      "Multi\n",
      "6111\n"
     ]
    }
   ],
   "source": [
    "a=63\n",
    "b=97\n",
    "Multi=a*b\n",
    "print(\"Multi\")\n",
    "print(Multi)"
   ]
  },
  {
   "cell_type": "code",
   "execution_count": 9,
   "id": "c7a94d97-51af-4d22-903e-1ad4c0cd90ba",
   "metadata": {},
   "outputs": [
    {
     "name": "stdout",
     "output_type": "stream",
     "text": [
      "Floatdivision\n",
      "2.4516129032258065\n"
     ]
    }
   ],
   "source": [
    "a=76\n",
    "b=31\n",
    "Floatdivision=a/b\n",
    "print(\"Floatdivision\")\n",
    "print(Floatdivision)"
   ]
  },
  {
   "cell_type": "code",
   "execution_count": 11,
   "id": "37c2c60a-6f6e-462a-96b8-e4dfddb9f813",
   "metadata": {},
   "outputs": [
    {
     "name": "stdout",
     "output_type": "stream",
     "text": [
      "FloorDiv\n",
      "2\n"
     ]
    }
   ],
   "source": [
    "a=76\n",
    "b=31\n",
    "FloorDiv=a//b\n",
    "print(\"FloorDiv\")\n",
    "print(FloorDiv)"
   ]
  },
  {
   "cell_type": "code",
   "execution_count": 12,
   "id": "c1618c1f-2868-459d-846f-2244ca4f8beb",
   "metadata": {},
   "outputs": [
    {
     "name": "stdout",
     "output_type": "stream",
     "text": [
      "Modulo\n",
      "14\n"
     ]
    }
   ],
   "source": [
    "a=76\n",
    "b=31\n",
    "Modulo=a%b\n",
    "print(\"Modulo\")\n",
    "print(Modulo)"
   ]
  },
  {
   "cell_type": "code",
   "execution_count": 14,
   "id": "7ab84d1b-1568-4c56-b495-eefc5b778423",
   "metadata": {},
   "outputs": [
    {
     "name": "stdout",
     "output_type": "stream",
     "text": [
      "Power\n",
      "256\n"
     ]
    }
   ],
   "source": [
    "a=4\n",
    "b=4\n",
    "Power=a**b\n",
    "print(\"Power\")\n",
    "print(Power)"
   ]
  },
  {
   "cell_type": "code",
   "execution_count": null,
   "id": "bd6ccb1a-33cd-42f3-bb61-b6d83e7c7c57",
   "metadata": {},
   "outputs": [],
   "source": []
  }
 ],
 "metadata": {
  "kernelspec": {
   "display_name": "Python 3 (ipykernel)",
   "language": "python",
   "name": "python3"
  },
  "language_info": {
   "codemirror_mode": {
    "name": "ipython",
    "version": 3
   },
   "file_extension": ".py",
   "mimetype": "text/x-python",
   "name": "python",
   "nbconvert_exporter": "python",
   "pygments_lexer": "ipython3",
   "version": "3.11.7"
  }
 },
 "nbformat": 4,
 "nbformat_minor": 5
}
